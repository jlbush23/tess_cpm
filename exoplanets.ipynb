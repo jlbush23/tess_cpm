{
 "cells": [
  {
   "cell_type": "code",
   "execution_count": null,
   "metadata": {},
   "outputs": [],
   "source": [
    "import tess_cpm\n",
    "import numpy as np\n",
    "import matplotlib.pyplot as plt\n",
    "from astropy.io import fits\n",
    "from astropy.wcs import WCS\n",
    "from scipy.ndimage import median_filter\n",
    "from scipy.ndimage import uniform_filter1d\n",
    "import lightkurve as lk"
   ]
  },
  {
   "cell_type": "code",
   "execution_count": null,
   "metadata": {},
   "outputs": [],
   "source": [
    "plt.rcParams[\"figure.figsize\"] = (8, 5)\n",
    "plt.rcParams[\"figure.dpi\"] = 400"
   ]
  },
  {
   "cell_type": "code",
   "execution_count": null,
   "metadata": {},
   "outputs": [],
   "source": [
    "f = \"exoplanets/tess-s0010-1-1_173.957400_-29.156000_100x100_astrocut.fits\"\n",
    "f2 = \"exoplanets/tess-s0001-1-4_316.631902_-26.692632_64x64_astrocut.fits\""
   ]
  },
  {
   "cell_type": "code",
   "execution_count": null,
   "metadata": {},
   "outputs": [],
   "source": [
    "exo = tess_cpm.Source(f)"
   ]
  },
  {
   "cell_type": "code",
   "execution_count": null,
   "metadata": {},
   "outputs": [],
   "source": [
    "# exo.plot_cutout();"
   ]
  },
  {
   "cell_type": "code",
   "execution_count": null,
   "metadata": {},
   "outputs": [],
   "source": [
    "exo.set_aperture(rowlims=[49, 50], collims=[49, 52])\n",
    "exo.plot_cutout(rowlims=[45, 55], collims=[45, 55], show_aperture=True);"
   ]
  },
  {
   "cell_type": "code",
   "execution_count": null,
   "metadata": {},
   "outputs": [],
   "source": [
    "# exo.plot_pix_by_pix();"
   ]
  },
  {
   "cell_type": "code",
   "execution_count": null,
   "metadata": {},
   "outputs": [],
   "source": [
    "exo.remove_poly_model()\n",
    "exo.add_cpm_model()\n",
    "exo.set_regs([0.1])\n",
    "exo.holdout_fit_predict(k=100);\n",
    "no_poly_dt_lc = exo.get_aperture_lc(\"cpm_subtracted_flux\")\n",
    "\n",
    "exo.add_cpm_model()\n",
    "exo.add_poly_model()\n",
    "exo.set_regs([0.1, 0.01])\n",
    "exo.holdout_fit_predict(k=100);\n",
    "with_poly_dt_lc = exo.get_aperture_lc(\"cpm_subtracted_flux\")\n",
    "with_poly_sub_poly_dt_lc = with_poly_dt_lc - exo.get_aperture_lc(\"poly_model_prediction\")"
   ]
  },
  {
   "cell_type": "code",
   "execution_count": null,
   "metadata": {},
   "outputs": [],
   "source": [
    "plt.plot(exo.time, no_poly_dt_lc, label=\"No Polynomial\")\n",
    "plt.plot(exo.time, with_poly_dt_lc, label=\"With Polynomial\")\n",
    "plt.plot(exo.time, with_poly_sub_poly_dt_lc, label=\"With Polynomial (subtract poly)\")\n",
    "\n",
    "plt.legend()"
   ]
  },
  {
   "cell_type": "code",
   "execution_count": null,
   "metadata": {},
   "outputs": [],
   "source": [
    "# exo.plot_pix_by_pix(split=True, data_type=\"raw\")\n",
    "# exo.plot_pix_by_pix(split=True, data_type=\"prediction\")\n",
    "# exo.plot_pix_by_pix(split=True, data_type=\"cpm_prediction\")\n",
    "# exo.plot_pix_by_pix(split=True, data_type=\"poly_model_prediction\")\n",
    "exo.plot_pix_by_pix(split=True, data_type=\"cpm_subtracted_flux\")\n",
    "# no_poly_dt_lc = exo.get_aperture_lc(\"cpm_subtracted_flux\")\n",
    "# with_poly_dt_lc = exo.get_aperture_lc(\"cpm_subtracted_flux\") - exo.get_aperture_lc(\"poly_model_prediction\")\n",
    "with_poly_dt_lc = exo.get_aperture_lc(\"cpm_subtracted_flux\")"
   ]
  },
  {
   "cell_type": "code",
   "execution_count": null,
   "metadata": {},
   "outputs": [],
   "source": []
  },
  {
   "cell_type": "code",
   "execution_count": null,
   "metadata": {},
   "outputs": [],
   "source": [
    "# lc.shape\n",
    "outliers = exo.get_outliers(window=10, sigma_upper=5, sigma_lower=0.8)"
   ]
  },
  {
   "cell_type": "code",
   "execution_count": null,
   "metadata": {},
   "outputs": [],
   "source": [
    "plt.plot(exo.time, lc)\n",
    "plt.plot(exo.time[outliers], lc[outliers], \"x\", c=\"red\")\n",
    "plt.plot(exo.time[~outliers], lc[~outliers], \"-\", c=\"C2\")"
   ]
  },
  {
   "cell_type": "code",
   "execution_count": null,
   "metadata": {},
   "outputs": [],
   "source": [
    "exo.holdout_fit_predict(k=100, mask=~outliers);\n",
    "exo.plot_pix_by_pix(\"cpm_prediction\");\n",
    "exo.plot_pix_by_pix(\"cpm_subtracted_flux\");"
   ]
  },
  {
   "cell_type": "code",
   "execution_count": null,
   "metadata": {},
   "outputs": [],
   "source": [
    "masked_lc = exo.get_aperture_lc(\"cpm_subtracted_flux\")\n",
    "# plt.plot(exo.time, lc)\n",
    "plt.plot(exo.time, masked_lc, alpha=0.7)\n",
    "plt.plot(exo.time, lc, alpha=0.5)"
   ]
  },
  {
   "cell_type": "code",
   "execution_count": null,
   "metadata": {},
   "outputs": [],
   "source": [
    "apt_cpm = exo.get_aperture_lc(data_type=\"cpm_prediction\")\n",
    "apt_lc = exo.get_aperture_lc(data_type=\"rescaled_cpm_subtracted_flux\")\n",
    "# exo.get_aperture_lc(split=False, data_type=\"cpm_subtracted_lc\")"
   ]
  },
  {
   "cell_type": "code",
   "execution_count": null,
   "metadata": {},
   "outputs": [],
   "source": [
    "# plt.plot(exo.time, apt_cpm, \".\")\n",
    "plt.plot(exo.time, apt_lc, \".\")\n",
    "# outliers = np.abs(apt_lc) > 1.5*np.std(apt_lc)\n",
    "# print(np.sum(outliers))\n",
    "# plt.plot(exo.time[outliers], apt_lc[outliers], \"x\", c=\"k\")\n",
    "# plt.plot(exo.time[~outliers], apt_lc[~outliers], \"x\", c=\"k\")\n",
    "\n",
    "# apt_lc[pre_clip] = np.nan\n",
    "# clip = np.abs(apt_lc) > 1*np.std(apt_lc[pre_clip])\n",
    "# plt.plot(exo.time[clip], apt_lc[clip], \"x\", c=\"r\")\n",
    "# np.any(clip)"
   ]
  },
  {
   "cell_type": "code",
   "execution_count": null,
   "metadata": {},
   "outputs": [],
   "source": [
    "cpm_regs = 10.0 ** np.arange(-10, 10)"
   ]
  },
  {
   "cell_type": "code",
   "execution_count": null,
   "metadata": {},
   "outputs": [],
   "source": [
    "min_cpm_reg, cdpps = exo.calc_min_cpm_reg(cpm_regs, k=10)\n",
    "# plt.savefig(\"Exoplanet_CDPPS.png\", dpi=200)"
   ]
  },
  {
   "cell_type": "code",
   "execution_count": null,
   "metadata": {},
   "outputs": [],
   "source": []
  },
  {
   "cell_type": "code",
   "execution_count": null,
   "metadata": {},
   "outputs": [],
   "source": [
    "cpm_regs"
   ]
  },
  {
   "cell_type": "code",
   "execution_count": null,
   "metadata": {},
   "outputs": [],
   "source": [
    "print(min_cpm_reg)\n",
    "exo.set_regs([min_cpm_reg])\n",
    "exo.holdout_fit_predict(k=10);\n",
    "flux_splits = exo.get_aperture_lc(data_type=\"raw\", split=True)\n",
    "splits = exo.get_aperture_lc(data_type=\"cpm_subtracted_flux\", split=True)\n",
    "f, axs = plt.subplots(2, 1, sharex=True, figsize=(18, 8))\n",
    "for time, split, f_split in zip(exo.split_times, splits, flux_splits):\n",
    "    axs[0].plot(time, f_split, \".\")\n",
    "    axs[0].set_ylabel(\"Original Flux\", fontsize=15)\n",
    "    axs[1].plot(time, split)\n",
    "    axs[1].set_ylabel(\"Detrended Flux\", fontsize=15)\n",
    "    axs[1].set_xlabel( \"Time [BTJD]\", fontsize=15)\n",
    "# plt.savefig(\"Exoplanet_LC.png\", dpi=200)"
   ]
  },
  {
   "cell_type": "code",
   "execution_count": null,
   "metadata": {},
   "outputs": [],
   "source": [
    "print(min_cpm_reg)\n",
    "exo.set_regs([min_cpm_reg])\n",
    "exo.holdout_fit_predict(k=10);\n",
    "flux_splits = exo.get_aperture_lc(data_type=\"raw\", split=True)\n",
    "splits = exo.get_aperture_lc(data_type=\"cpm_subtracted_flux\", split=True)\n",
    "f, axs = plt.subplots(2, 1, sharex=True, figsize=(18, 8))\n",
    "for time, split, f_split in zip(exo.split_times, splits, flux_splits):\n",
    "    axs[0].plot(time, f_split, \".\")\n",
    "    axs[0].set_ylabel(\"Original Flux\", fontsize=15)\n",
    "    axs[1].plot(time, split)\n",
    "    axs[1].set_ylabel(\"Detrended Flux\", fontsize=15)\n",
    "    axs[1].set_xlabel( \"Time [BTJD]\", fontsize=15)\n",
    "# plt.savefig(\"Exoplanet_LC.png\", dpi=200)"
   ]
  },
  {
   "cell_type": "code",
   "execution_count": null,
   "metadata": {},
   "outputs": [],
   "source": [
    "lc = lk.TessLightCurve(time=exo.time[~outliers], flux=apt_lc[~outliers])\n",
    "# lc.plot(normalize=False)\n",
    "# lc.normalize()\n",
    "# np.nanmedian(lc.flux)\n",
    "# np.nanstd(lc.flux)\n",
    "# np.abs(np.nanmedian(lc.flux)) < 0.5*np.nanstd(lc.flux)\n",
    "lc.plot()\n",
    "lc.estimate_cdpp()\n",
    "# a = lc.flatten()\n",
    "# a"
   ]
  },
  {
   "cell_type": "code",
   "execution_count": null,
   "metadata": {},
   "outputs": [],
   "source": [
    "# split_cpm_subtracted_lc = exo.get_aperture_lc(split=True, data_type=\"cpm_subtracted_lc\")\n",
    "# cpm_subtracted_lc = exo.get_aperture_lc(data_type=\"cpm_subtracted_lc\")\n",
    "\n",
    "# for t, l in zip(exo.split_times, split_cpm_subtracted_lc):\n",
    "#     plt.plot(t, l)"
   ]
  },
  {
   "cell_type": "markdown",
   "metadata": {},
   "source": [
    "## TIC 29857954"
   ]
  },
  {
   "cell_type": "code",
   "execution_count": null,
   "metadata": {},
   "outputs": [],
   "source": [
    "# TIC 29857954\n",
    "tic = tess_cpm.Source(f2, remove_bad=True)\n",
    "# tic.set_aperture(rowlims=[28, 36], collims=[28, 36])  # full aperture\n",
    "tic.set_aperture(rowlims=[32, 34], collims=[31, 33])  # not full aperture\n",
    "# tic.set_aperture(rowlims=[32, 33], collims=[32, 32])  # central pixel\n",
    "\n",
    "tic.plot_cutout(show_aperture=True, h=99);\n",
    "tic.add_cpm_model(n=256)\n",
    "# tic.add_poly_model()\n",
    "tic.set_regs([0.01])\n",
    "tic.holdout_fit_predict(k=150);\n",
    "tic.plot_pix_by_pix();\n",
    "# tic.plot_pix_by_pix(\"normalized_flux\");\n",
    "# tic.plot_pix_by_pix(\"cpm_prediction\", split=True);\n",
    "\n",
    "# tic.plot_pix_by_pix(\"cpm_subtracted_flux\", split=True);\n",
    "# tic.plot_pix_by_pix(\"poly_model_prediction\", split=True);\n",
    "\n",
    "# no_mask_tic_lc = tic.get_aperture_lc(\"cpm_subtracted_flux\")\n",
    "no_mask_tic_lc = tic.get_aperture_lc(\"rescaled_cpm_subtracted_flux\")\n",
    "\n",
    "plt.plot(tic.time, no_mask_tic_lc)\n",
    "\n",
    "# There's already one known asteroid crossing in the aperture for this source around 1338.\n",
    "# Is there another one around the top left corner at 1347?"
   ]
  },
  {
   "cell_type": "code",
   "execution_count": null,
   "metadata": {},
   "outputs": [],
   "source": [
    "# TIC 29857954\n",
    "# With Polynomial\n",
    "with_poly = tess_cpm.Source(f2, remove_bad=True)\n",
    "# with_poly.set_aperture(rowlims=[28, 36], collims=[28, 36])  # full aperture\n",
    "with_poly.set_aperture(rowlims=[32, 34], collims=[31, 33])  # not full aperture\n",
    "# with_poly.set_aperture(rowlims=[33, 33], collims=[32, 32])  # central pixel\n",
    "\n",
    "# with_poly.plot_cutout(show_aperture=True);\n",
    "with_poly.add_cpm_model(n=256)\n",
    "with_poly.add_poly_model()\n",
    "with_poly.set_regs([0.01, 0.01])\n",
    "with_poly.holdout_fit_predict(k=150);\n",
    "# with_poly.plot_pix_by_pix();\n",
    "# with_poly.plot_pix_by_pix(\"normalized_flux\");\n",
    "# with_poly.plot_pix_by_pix(\"cpm_prediction\", split=True);\n",
    "\n",
    "# with_poly.plot_pix_by_pix(\"cpm_subtracted_flux\", split=True);\n",
    "# with_poly.plot_pix_by_pix(\"poly_model_prediction\", split=True);\n",
    "\n",
    "\n",
    "detrended_lc_with_poly = with_poly.get_aperture_lc(\"cpm_subtracted_flux\")\n",
    "poly_pred = with_poly.get_aperture_lc(\"poly_model_prediction\")\n",
    "intercept_pred = with_poly.get_aperture_lc(\"intercept_prediction\")\n",
    "plt.plot(with_poly.time, detrended_lc_with_poly)\n",
    "plt.plot(with_poly.time, detrended_lc_with_poly-poly_pred)\n",
    "\n",
    "# There's already one known asteroid crossing in the aperture for this source around 1338.\n",
    "# Is there another one around the top left corner at 1347?"
   ]
  },
  {
   "cell_type": "code",
   "execution_count": null,
   "metadata": {},
   "outputs": [],
   "source": [
    "plt.plot(with_poly.time, detrended_lc_with_poly, alpha=0.9, lw=1, label=\"CPM Subtracted Flux (Simultaneous Fit with Poly Model)\")\n",
    "plt.plot(with_poly.time, detrended_lc_with_poly-poly_pred, alpha=0.9, lw=1, label=\"CPM&Poly Subtracted Flux (Simultanesous Fit with Poly Model)\")\n",
    "# plt.plot(tic.time, no_mask_tic_lc, alpha=0.6, lw=1, label=\"CPM Subtracted Flux (No Poly Model)\")\n",
    "plt.legend(fontsize=10, markerscale=2)\n",
    "# plt.savefig(\"TIC29857954_different_model_lcs.pdf\", bbox_inches=\"tight\")"
   ]
  },
  {
   "cell_type": "markdown",
   "metadata": {},
   "source": [
    "## Plot Outliers & De-trend without them"
   ]
  },
  {
   "cell_type": "code",
   "execution_count": null,
   "metadata": {},
   "outputs": [],
   "source": [
    "no_mask_tic_lc.shape\n",
    "\n",
    "outliers = tic.get_outliers(sigma_upper=1.5, sigma_lower=1.5, window=30)\n",
    "plt.plot(tic.time, no_mask_tic_lc)\n",
    "# s = (tic.time > 1347) * (tic.time < 1350) + (tic.time > 1353)\n",
    "# 338<Time<1339 and 1346.8<Time<1348.6\n",
    "# s = ((tic.time > 1338) * (tic.time < 1339)) + ((tic.time > 1346.8) * (tic.time < 1348.6))\n",
    "# asteroid = ((tic.time > 1338)) * (tic.time < 1339)\n",
    "# outliers[asteroid] = True\n",
    "\n",
    "# not_outliers = tic.time > 1347.\n",
    "# outliers[not_outliers] = False\n",
    "\n",
    "plt.plot(tic.time[outliers], no_mask_tic_lc[outliers], \"x\", c=\"red\")\n",
    "plt.plot(tic.time[~outliers], no_mask_tic_lc[~outliers], c=\"green\")"
   ]
  },
  {
   "cell_type": "code",
   "execution_count": null,
   "metadata": {},
   "outputs": [],
   "source": [
    "tic.holdout_fit_predict(k=200, mask=~outliers);\n",
    "# tic.plot_pix_by_pix(\"rescaled_cpm_subtracted_flux\", split=True)"
   ]
  },
  {
   "cell_type": "code",
   "execution_count": null,
   "metadata": {},
   "outputs": [],
   "source": [
    "# tic_lc = tic.get_aperture_lc(\"rescaled_cpm_subtracted_flux\")\n",
    "mask_tic_lc = tic.get_aperture_lc(\"rescaled_cpm_subtracted_flux\")\n",
    "# plt.plot(tic.time[~s], tic_lc[~s])\n",
    "plt.plot(tic.time, mask_tic_lc / np.median(mask_tic_lc), alpha=0.3)\n",
    "plt.plot(tic.time, no_mask_tic_lc / np.nanmedian(no_mask_tic_lc), alpha=0.3)\n",
    "\n",
    "# plt.ylim([0.995, 1.005])"
   ]
  },
  {
   "cell_type": "code",
   "execution_count": null,
   "metadata": {},
   "outputs": [],
   "source": [
    "plt.figure(figsize=(16, 10))\n",
    "\n",
    "plt.plot(tic.time, mask_tic_lc, c=\"k\")\n",
    "plt.xlabel(\"Time - 2457000 [Days]\", fontsize=30)\n",
    "plt.ylabel(\"Renormalized CPM Flux\", fontsize=30)\n",
    "plt.title(\"TOI-172 (TIC 29857954)\", y=1, fontsize=40)\n",
    "plt.tick_params(labelsize=20)\n",
    "# plt.ylim([0.995, 1.005])\n",
    "# plt.savefig(\"TOI172.png\", dpi=300)"
   ]
  },
  {
   "cell_type": "code",
   "execution_count": null,
   "metadata": {},
   "outputs": [],
   "source": []
  },
  {
   "cell_type": "code",
   "execution_count": null,
   "metadata": {},
   "outputs": [],
   "source": [
    "# lc.to_csv(\"/home/soichiro/code/tessninja3/cpm_lc.csv\")"
   ]
  },
  {
   "cell_type": "code",
   "execution_count": null,
   "metadata": {},
   "outputs": [],
   "source": [
    "# transits = tic.get_outliers(sigma_lower=1.5, sigma_upper=10, window=20)\n",
    "# # tic.get_outliers?\n",
    "# plt.plot(tic.time, tic_lc, \"k\")\n",
    "# plt.plot(tic.time[transits], tic_lc[transits], \"x\", c=\"r\")"
   ]
  },
  {
   "cell_type": "code",
   "execution_count": null,
   "metadata": {},
   "outputs": [],
   "source": [
    "coarse1 = (tic.time > 1338) & (tic.time < 1338.5)\n",
    "# coarse2 = (tic.time > 1346.8) & (tic.time < 1348.6) \n",
    "coarse2 = (tic.time > 1347) & (tic.time < 1349.5) \n",
    "\n",
    "coarse = coarse1 + coarse2\n",
    "\n",
    "half_duration = 0.2\n",
    "period = 9.48\n",
    "t1 = 1326.925\n",
    "transit1 = (tic.time > (t1-half_duration)) & (tic.time < (t1+half_duration))\n",
    "transit2 = (tic.time > (t1+period-half_duration)) & (tic.time < (t1+period+half_duration))\n",
    "transit3 = (tic.time > (t1+2*period-half_duration)) & (tic.time < (t1+2*period+half_duration))\n",
    "transits = transit1 + transit2 + transit3\n",
    "\n",
    "end = tic.time > 1353\n",
    "\n",
    "flag = coarse + transits + (tic.time > 1353)\n",
    "dt_mask = coarse1 + transits"
   ]
  },
  {
   "cell_type": "code",
   "execution_count": null,
   "metadata": {},
   "outputs": [],
   "source": [
    "plt.plot(tic.time, mask_tic_lc, \"k.\")\n",
    "# plt.plot(tic.time[coarse], tic_lc[coarse], \"x\", c=\"r\")\n",
    "# plt.plot(tic.time[transits], tic_lc[transits], \"x\", c=\"r\")\n",
    "plt.plot(tic.time[flag], mask_tic_lc[flag], \"x\", c=\"r\")"
   ]
  },
  {
   "cell_type": "code",
   "execution_count": null,
   "metadata": {},
   "outputs": [],
   "source": [
    "tic.holdout_fit_predict(k=150, mask=~dt_mask);\n",
    "# tic_lc = tic.get_aperture_lc(\"rescaled_cpm_subtracted_flux\")\n",
    "mask_tic_lc = tic.get_aperture_lc(\"rescaled_cpm_subtracted_flux\")\n",
    "# plt.plot(tic.time[~s], tic_lc[~s])\n",
    "plt.plot(tic.time, mask_tic_lc / np.median(mask_tic_lc), alpha=0.3, marker=\".\")\n",
    "plt.plot(tic.time, no_mask_tic_lc / np.median(no_mask_tic_lc), alpha=0.3, marker=\".\")\n",
    "\n",
    "plt.ylim([0.995, 1.005])"
   ]
  },
  {
   "cell_type": "code",
   "execution_count": null,
   "metadata": {},
   "outputs": [],
   "source": [
    "plt.plot(tic.time[transit1], mask_tic_lc[transit1] / np.median(mask_tic_lc), alpha=0.3, marker=\".\", label=\"Masked\")\n",
    "plt.plot(tic.time[transit1], no_mask_tic_lc[transit1] / np.median(no_mask_tic_lc), alpha=0.3, marker=\".\", label=\"No Mask\")\n",
    "plt.legend()\n",
    "plt.ylim([0.995, 1.005])"
   ]
  },
  {
   "cell_type": "code",
   "execution_count": null,
   "metadata": {},
   "outputs": [],
   "source": [
    "plt.plot(tic.time[transit2], mask_tic_lc[transit2] / np.median(mask_tic_lc), alpha=0.3, marker=\".\", label=\"Masked\")\n",
    "plt.plot(tic.time[transit2], no_mask_tic_lc[transit2] / np.median(no_mask_tic_lc), alpha=0.3, marker=\".\", label=\"No Mask\")\n",
    "plt.legend()\n",
    "plt.ylim([0.995, 1.005])"
   ]
  },
  {
   "cell_type": "code",
   "execution_count": null,
   "metadata": {},
   "outputs": [],
   "source": [
    "plt.plot(tic.time[transit3], mask_tic_lc[transit3] / np.median(mask_tic_lc), alpha=0.3, marker=\".\", label=\"Masked\")\n",
    "plt.plot(tic.time[transit3], no_mask_tic_lc[transit3] / np.median(no_mask_tic_lc), alpha=0.3, marker=\".\", label=\"No Mask\")\n",
    "plt.legend()\n",
    "plt.ylim([0.995, 1.005])"
   ]
  },
  {
   "cell_type": "code",
   "execution_count": null,
   "metadata": {},
   "outputs": [],
   "source": [
    "lc = lk.TessLightCurve(time=tic.time, flux=mask_tic_lc / np.nanmedian(mask_tic_lc))\n",
    "lc.flatten(window_length=51).plot()\n",
    "lc.estimate_cdpp(transit_duration=2, sigma=5.0)"
   ]
  },
  {
   "cell_type": "code",
   "execution_count": null,
   "metadata": {},
   "outputs": [],
   "source": [
    "# lc = lk.TessLightCurve(time=tic.time[~flag], flux=mask_tic_lc[~flag] / np.nanmedian(mask_tic_lc[~flag]))\n",
    "lc = lk.TessLightCurve(time=tic.time[~flag], flux=mask_tic_lc[~flag])\n",
    "lc.plot()\n",
    "lc.estimate_cdpp(transit_duration=2, savgol_window=51)\n",
    "# lc.flatten().estimate_cdpp(transit_duration=2)"
   ]
  },
  {
   "cell_type": "code",
   "execution_count": null,
   "metadata": {},
   "outputs": [],
   "source": [
    "# plt.plot(tic.time, tic_lc+1)"
   ]
  },
  {
   "cell_type": "code",
   "execution_count": null,
   "metadata": {},
   "outputs": [],
   "source": [
    "# lc = lk.TessLightCurve(time=tic.time[~s], flux=(tic_lc)[~s] / np.nanmedian(tic_lc[~s]))\n",
    "# lc = lk.TessLightCurve(time=tic.time[~asteroid], flux=(tic_lc[~asteroid] / np.nanmedian(tic_lc[~asteroid])))\n",
    "\n",
    "# lc = lk.TessLightCurve(time=tic.time[~outliers], flux=(tic_lc+1)[~outliers])"
   ]
  },
  {
   "cell_type": "code",
   "execution_count": null,
   "metadata": {},
   "outputs": [],
   "source": [
    "lc.plot()\n",
    "cleaned_lc = lc.remove_outliers(sigma=5)\n",
    "cleaned_lc.plot()"
   ]
  },
  {
   "cell_type": "code",
   "execution_count": null,
   "metadata": {},
   "outputs": [],
   "source": [
    "eleanor_time = np.loadtxt(\"/home/soichiro/code/tessninja3/toi172_eleanor_lc.csv\", delimiter=\",\", usecols=1, skiprows=1)\n",
    "eleanor_flux = np.loadtxt(\"/home/soichiro/code/tessninja3/toi172_eleanor_lc.csv\", delimiter=\",\", usecols=2, skiprows=1)"
   ]
  },
  {
   "cell_type": "code",
   "execution_count": null,
   "metadata": {},
   "outputs": [],
   "source": [
    "print(eleanor_time.size, eleanor_flux.size)"
   ]
  },
  {
   "cell_type": "code",
   "execution_count": null,
   "metadata": {},
   "outputs": [],
   "source": [
    "eleanor_coarse1 = (eleanor_time > 1338) & (eleanor_time < 1338.5)\n",
    "eleanor_coarse2 = (eleanor_time > 1347) & (eleanor_time < 1349.5) \n",
    "eleanor_coarse = eleanor_coarse1 + eleanor_coarse2\n",
    "\n",
    "half_duration = 0.2\n",
    "period = 9.48\n",
    "t1 = 1326.925\n",
    "eleanor_transit1 = (eleanor_time > (t1-half_duration)) & (eleanor_time < (t1+half_duration))\n",
    "eleanor_transit2 = (eleanor_time > (t1+period-half_duration)) & (eleanor_time < (t1+period+half_duration))\n",
    "eleanor_transit3 = (eleanor_time > (t1+2*period-half_duration)) & (eleanor_time < (t1+2*period+half_duration))\n",
    "eleanor_transits = eleanor_transit1 + eleanor_transit2 + eleanor_transit3\n",
    "\n",
    "eleanor_flag = eleanor_coarse + eleanor_transits + (eleanor_time > 1353)\n",
    "# eleanor_flag = coarse1 + transits"
   ]
  },
  {
   "cell_type": "code",
   "execution_count": null,
   "metadata": {},
   "outputs": [],
   "source": [
    "eleanor_lc_cc = lk.TessLightCurve(time=eleanor_time[~eleanor_flag], flux=eleanor_flux[~eleanor_flag])\n",
    "eleanor_lc_cc.flatten(window_length=51).plot()\n",
    "eleanor_lc_cc.estimate_cdpp(transit_duration=2, savgol_window=51)"
   ]
  },
  {
   "cell_type": "code",
   "execution_count": null,
   "metadata": {},
   "outputs": [],
   "source": [
    "print(eleanor_time.size, tic.time.size)"
   ]
  },
  {
   "cell_type": "code",
   "execution_count": null,
   "metadata": {},
   "outputs": [],
   "source": [
    "fig, ax = plt.subplots(figsize=(16, 9))\n",
    "\n",
    "ax.plot(eleanor_time, eleanor_flux / np.nanmedian(eleanor_flux), \".\", color=\"C1\", label=\"eleanor 1-hr CDPP: 369 ppm\")\n",
    "ax.plot(tic.time, mask_tic_lc / np.nanmedian(mask_tic_lc), \".\", color=\"C0\", label=\"unpopular 1-hr CDPP: 273 ppm\")\n",
    "ax.legend(edgecolor=\"k\", loc=2, fontsize=20, markerscale=3)\n",
    "# ax.set_ylim((0.996, 1.001))"
   ]
  },
  {
   "cell_type": "code",
   "execution_count": null,
   "metadata": {},
   "outputs": [],
   "source": [
    "fig, ax = plt.subplots(figsize=(16, 9))\n",
    "\n",
    "ax.plot(eleanor_time, eleanor_flux / np.nanmedian(eleanor_flux)+0.01, color=\"C1\", label=\"eleanor 1-hr CDPP: 367 ppm\")\n",
    "ax.plot(tic.time, mask_tic_lc / np.nanmedian(mask_tic_lc), color=\"C0\", label=\"unpopular 1-hr CDPP: 274 ppm\")\n",
    "# ax.plot(eleanor_time[eleanor_time < 1353], eleanor_flux[eleanor_time < 1353] / np.nanmedian(eleanor_flux[eleanor_time < 1353])+0.01, \n",
    "#         color=\"C1\", label=\"eleanor 1-hr CDPP: 369 ppm\")\n",
    "# ax.plot(tic.time[tic.time < 1353], mask_tic_lc[tic.time < 1353] / np.nanmedian(mask_tic_lc[tic.time < 1353]), \n",
    "#         color=\"C0\", label=\"unpopular 1-hr CDPP: 273 ppm\")\n",
    "ax.legend(edgecolor=\"k\", loc=2, fontsize=20, markerscale=3)\n",
    "\n",
    "hd = 0.2\n",
    "op = 9.48\n",
    "t1 = 1326.925\n",
    "t2 = t1+op\n",
    "t3 = t2+op\n",
    "color=\"C4\"\n",
    "alpha=0.3\n",
    "ax.axvspan(t1-hd, t1+hd, facecolor=color, alpha=alpha)\n",
    "ax.axvspan(t2-hd, t2+hd, facecolor=color, alpha=alpha)\n",
    "ax.axvspan(t3-hd, t3+hd, facecolor=color, alpha=alpha)\n",
    "\n",
    "ax.axvspan(1338, 1338.5, facecolor=\"Gray\", alpha=0.3)\n",
    "ax.axvspan(1347, 1349.5, facecolor=\"Gray\", alpha=0.3)\n",
    "ax.axvspan(1353, tic.time[-1]+0.1, facecolor=\"Gray\", alpha=0.3)\n",
    "ax.set_xlabel(\"Time [BJD-2457000]\", fontsize=20)\n",
    "ax.set_ylabel(\"Normalized Flux + Constant\", fontsize=20)\n",
    "ax.tick_params(labelsize=20)\n",
    "# plt.legend(fontsize=20, markerscale=3, edgecolor=\"k\")\n",
    "for axis in ['top','bottom','left','right']:\n",
    "    ax.spines[axis].set_linewidth(1.5)\n",
    "# plt.ylim([0.995, 1.005])\n",
    "plt.savefig(\"toi172_comparison.pdf\", bbox_inches=\"tight\")"
   ]
  },
  {
   "cell_type": "code",
   "execution_count": null,
   "metadata": {},
   "outputs": [],
   "source": [
    "plt.plot(eleanor_time[eleanor_transit1], eleanor_flux[eleanor_transit1] / np.nanmedian(eleanor_flux), \".-\", color=\"C1\", label=\"eleanor\")\n",
    "plt.plot(tic.time[transit1], mask_tic_lc[transit1] / np.nanmedian(mask_tic_lc), \".-\", color=\"C0\", label=\"unpopular\")\n",
    "plt.legend()"
   ]
  },
  {
   "cell_type": "code",
   "execution_count": null,
   "metadata": {},
   "outputs": [],
   "source": [
    "plt.plot(eleanor_time[eleanor_transit2], eleanor_flux[eleanor_transit2] / np.nanmedian(eleanor_flux), \".-\", color=\"C1\", label=\"eleanor\")\n",
    "plt.plot(tic.time[transit2], mask_tic_lc[transit2] / np.nanmedian(mask_tic_lc), \".-\", color=\"C0\", label=\"unpopular\")\n",
    "plt.legend()\n",
    "plt.gca().get_xaxis().get_major_formatter().set_useOffset(False)"
   ]
  },
  {
   "cell_type": "code",
   "execution_count": null,
   "metadata": {},
   "outputs": [],
   "source": [
    "plt.plot(eleanor_time[eleanor_transit3], eleanor_flux[eleanor_transit3] / np.nanmedian(eleanor_flux), \".-\", color=\"C1\", label=\"eleanor\")\n",
    "plt.plot(tic.time[transit3], mask_tic_lc[transit3] / np.nanmedian(mask_tic_lc), \".-\", color=\"C0\", label=\"unpopular\")\n",
    "plt.legend()"
   ]
  },
  {
   "cell_type": "code",
   "execution_count": null,
   "metadata": {},
   "outputs": [],
   "source": [
    "fig, axs = plt.subplots(figsize=(16, 3), nrows=1, ncols=3, sharey=True)\n",
    "# fig.subplots_adjust(hspace=0.0, wspace=0)\n",
    "axs[0].plot(eleanor_time[eleanor_transit1], eleanor_flux[eleanor_transit1] / np.nanmedian(eleanor_flux), \".-\", color=\"C1\", label=\"eleanor\")\n",
    "axs[0].plot(tic.time[transit1], mask_tic_lc[transit1] / np.nanmedian(mask_tic_lc), \".-\", color=\"C0\", label=\"unpopular\")\n",
    "# axs[0].legend()\n",
    "axs[1].plot(eleanor_time[eleanor_transit2], eleanor_flux[eleanor_transit2] / np.nanmedian(eleanor_flux), \".-\", color=\"C1\", label=\"eleanor\")\n",
    "axs[1].plot(tic.time[transit2], mask_tic_lc[transit2] / np.nanmedian(mask_tic_lc), \".-\", color=\"C0\", label=\"unpopular\")\n",
    "axs[1].get_xaxis().get_major_formatter().set_useOffset(False)\n",
    "axs[2].plot(eleanor_time[eleanor_transit3], eleanor_flux[eleanor_transit3] / np.nanmedian(eleanor_flux), \".-\", color=\"C1\", label=\"eleanor\")\n",
    "axs[2].plot(tic.time[transit3], mask_tic_lc[transit3] / np.nanmedian(mask_tic_lc), \".-\", color=\"C0\", label=\"unpopular\")\n",
    "\n",
    "axs[0].set_ylabel(\"Normalized Flux\", fontsize=15)\n",
    "axs[1].set_xlabel(\"Time [BJD-2457000]\", fontsize=15)\n",
    "for ax in axs:\n",
    "    ax.tick_params(labelsize=20)\n",
    "    for axis in ['top','bottom','left','right']:\n",
    "        ax.spines[axis].set_linewidth(1.5)"
   ]
  },
  {
   "cell_type": "code",
   "execution_count": null,
   "metadata": {},
   "outputs": [],
   "source": [
    "eleanor_fold = lk.TessLightCurve(time=eleanor_time, flux=eleanor_flux / np.nanmedian(eleanor_flux)).fold(9.48, t0=1326.92)\n",
    "unpopular_fold = lk.TessLightCurve(time=tic.time, flux=mask_tic_lc / np.nanmedian(mask_tic_lc)).fold(9.48, t0=1326.92)"
   ]
  },
  {
   "cell_type": "code",
   "execution_count": null,
   "metadata": {},
   "outputs": [],
   "source": [
    "eleanor_phase = (eleanor_fold.phase.value > -0.3) * (eleanor_fold.phase.value < 0.3)\n",
    "unpopular_phase = (unpopular_fold.phase.value > -0.3) * (unpopular_fold.phase.value < 0.3)\n",
    "\n",
    "plt.plot(eleanor_fold.phase.value[eleanor_phase], eleanor_fold.flux.value[eleanor_phase], \".C1\")\n",
    "# plt.plot(eleanor_fold.phase.value[eleanor_phase], uniform_filter1d(eleanor_fold.flux.value[eleanor_phase], size=10), \"*C0\")\n",
    "plt.plot(eleanor_fold.phase.value[eleanor_phase], median_filter(eleanor_fold.flux.value[eleanor_phase], size=12), \"-C1\")\n",
    "plt.plot(unpopular_fold.phase.value[unpopular_phase], unpopular_fold.flux.value[unpopular_phase], \".C0\")\n",
    "# plt.plot(unpopular_fold.phase.value[unpopular_phase], uniform_filter1d(unpopular_fold.flux.value[unpopular_phase], size=10), \"*C1\")\n",
    "plt.plot(unpopular_fold.phase.value[unpopular_phase], median_filter(unpopular_fold.flux.value[unpopular_phase], size=12), \"-C0\")"
   ]
  },
  {
   "cell_type": "code",
   "execution_count": null,
   "metadata": {},
   "outputs": [],
   "source": [
    "eleanor_flux"
   ]
  },
  {
   "cell_type": "code",
   "execution_count": null,
   "metadata": {},
   "outputs": [],
   "source": [
    "end = tic.time > 1353\n",
    "plt.plot(tic.time[~end], mask_tic_lc[~end] / np.nanmedian(mask_tic_lc[~end]))"
   ]
  },
  {
   "cell_type": "code",
   "execution_count": null,
   "metadata": {},
   "outputs": [],
   "source": [
    "window = (eleanor_time < 1350) * (eleanor_time > 1346)\n",
    "plt.plot(eleanor_time[window], eleanor_flux[window], \".\")"
   ]
  },
  {
   "cell_type": "code",
   "execution_count": null,
   "metadata": {},
   "outputs": [],
   "source": []
  }
 ],
 "metadata": {
  "kernelspec": {
   "display_name": "Python 3",
   "language": "python",
   "name": "python3"
  },
  "language_info": {
   "codemirror_mode": {
    "name": "ipython",
    "version": 3
   },
   "file_extension": ".py",
   "mimetype": "text/x-python",
   "name": "python",
   "nbconvert_exporter": "python",
   "pygments_lexer": "ipython3",
   "version": "3.7.8"
  }
 },
 "nbformat": 4,
 "nbformat_minor": 4
}
