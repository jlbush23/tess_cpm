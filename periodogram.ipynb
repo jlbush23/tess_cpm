{
 "cells": [
  {
   "cell_type": "code",
   "execution_count": null,
   "metadata": {},
   "outputs": [],
   "source": [
    "%matplotlib inline\n",
    "import tess_cpm\n",
    "import numpy as np\n",
    "import matplotlib.pyplot as plt\n",
    "import lightkurve as lk\n",
    "from astropy.io import fits\n",
    "from astropy.wcs import WCS"
   ]
  },
  {
   "cell_type": "code",
   "execution_count": null,
   "metadata": {},
   "outputs": [],
   "source": [
    "def cpm_periodogram(fits_file, t_row=32, t_col=32):\n",
    "    cpm = tess_cpm.CPM(fits_file, remove_bad=True)\n",
    "    cpm.set_target(t_row, t_col)\n",
    "    cpm.set_exclusion(10)\n",
    "    cpm.set_predictor_pixels(256, method='cosine_similarity')\n",
    "    cpm.lsq(0.1, rescale=True, polynomials=False)\n",
    "    tess_cpm.summary_plot(cpm, 10)\n",
    "    aperture_lc, lc_matrix = cpm.get_aperture_lc(box=1, show_pixel_lc=True, show_aperture_lc=True)\n",
    "    lc = lk.LightCurve(time=cpm.time, flux=aperture_lc)\n",
    "    pg = lc.to_periodogram(oversample_factor=10)\n",
    "    fig, axs = plt.subplots(2, 1, figsize=(15, 8))\n",
    "    pg.plot(ax=axs[0], c='k')\n",
    "    pg.plot(ax=axs[1], c='k', view='period')\n",
    "    fig.suptitle(\"Periodogram\", fontsize=20, y=0.95)\n",
    "    period = pg.period_at_max_power\n",
    "    print(f\"Max Power Period: {period}\")\n",
    "    lc.fold(period.value*4).scatter()\n",
    "    plt.title(f\"Folded Lightcurve with Period: {period:.4f}\", fontsize=20)\n",
    "    return cpm"
   ]
  },
  {
   "cell_type": "code",
   "execution_count": null,
   "metadata": {},
   "outputs": [],
   "source": [
    "# fits_file = \"provided_sources/tess-s0005-1-3_70.445653_7.275704_64x64_astrocut.fits\"\n",
    "# fits_file = \"provided_sources/tess-s0005-1-3_72.267451_8.981257_64x64_astrocut.fits\"\n",
    "# fits_file = \"provided_sources/tess-s0005-1-3_71.975577_7.370718_64x64_astrocut.fits\"\n",
    "# fits_file = \"provided_sources/tess-s0006-1-1_84.180039_3.774854_64x64_astrocut.fits\"\n",
    "# fits_file = \"provided_sources/tess-s0002-1-3_357.154800_-15.211056_64x64_astrocut.fits\""
   ]
  },
  {
   "cell_type": "code",
   "execution_count": null,
   "metadata": {},
   "outputs": [],
   "source": [
    "cpm_periodogram(\"provided_sources/tess-s0005-1-3_70.445653_7.275704_64x64_astrocut.fits\")"
   ]
  },
  {
   "cell_type": "code",
   "execution_count": null,
   "metadata": {},
   "outputs": [],
   "source": [
    "cpm_periodogram(\"provided_sources/tess-s0005-1-3_72.267451_8.981257_64x64_astrocut.fits\")"
   ]
  },
  {
   "cell_type": "code",
   "execution_count": null,
   "metadata": {},
   "outputs": [],
   "source": [
    "cpm_periodogram(\"provided_sources/tess-s0005-1-3_71.975577_7.370718_64x64_astrocut.fits\")"
   ]
  },
  {
   "cell_type": "code",
   "execution_count": null,
   "metadata": {},
   "outputs": [],
   "source": [
    "cpm_periodogram(\"provided_sources/tess-s0006-1-1_84.180039_3.774854_64x64_astrocut.fits\")"
   ]
  },
  {
   "cell_type": "code",
   "execution_count": null,
   "metadata": {},
   "outputs": [],
   "source": [
    "cpm_periodogram(\"provided_sources/tess-s0002-1-3_357.154800_-15.211056_64x64_astrocut.fits\")"
   ]
  },
  {
   "cell_type": "code",
   "execution_count": null,
   "metadata": {},
   "outputs": [],
   "source": [
    "cpm_periodogram(\"provided_sources/tess-s0015-1-1_321.475220_46.623558_64x64_astrocut.fits\")"
   ]
  },
  {
   "cell_type": "code",
   "execution_count": null,
   "metadata": {},
   "outputs": [],
   "source": [
    "cpm = cpm_periodogram(\"provided_sources/tess-s0015-1-1_322.782190_48.644292_64x64_astrocut.fits\")\n",
    "# aperture_lc, lc_matrix = cpm.get_aperture_lc(show_pixel_lc=True, show_aperture_lc=True)"
   ]
  },
  {
   "cell_type": "code",
   "execution_count": null,
   "metadata": {},
   "outputs": [],
   "source": [
    "# lc = lk.LightCurve(time=cpm.time, flux=aperture_lc)\n",
    "# pg = lc.to_periodogram(oversample_factor=10)\n",
    "# fig, axs = plt.subplots(2, 1, figsize=(15, 8))\n",
    "# pg.plot(ax=axs[0], c='k')\n",
    "# pg.plot(ax=axs[1], c='k', view='period')\n",
    "# fig.suptitle(\"Periodogram\", fontsize=20, y=0.95)\n",
    "# period = pg.period_at_max_power\n",
    "# print(f\"Max Power Period: {period}\")\n",
    "# lc.fold(period.value*4).scatter()\n",
    "# plt.title(f\"Folded Lightcurve with Period: {period:.4f}\", fontsize=20)"
   ]
  },
  {
   "cell_type": "code",
   "execution_count": null,
   "metadata": {},
   "outputs": [],
   "source": [
    "cpm = cpm_periodogram(\"provided_sources/tess-s0015-1-1_322.748930_47.808133_64x64_astrocut.fits\")\n",
    "# aperture_lc, lc_matrix = cpm.get_aperture_lc(show_pixel_lc=True, show_aperture_lc=True)"
   ]
  },
  {
   "cell_type": "code",
   "execution_count": null,
   "metadata": {},
   "outputs": [],
   "source": [
    "# lc = lk.LightCurve(time=cpm.time, flux=aperture_lc)\n",
    "# pg = lc.to_periodogram(oversample_factor=10)\n",
    "# fig, axs = plt.subplots(2, 1, figsize=(15, 8))\n",
    "# pg.plot(ax=axs[0], c='k')\n",
    "# pg.plot(ax=axs[1], c='k', view='period')\n",
    "# fig.suptitle(\"Periodogram\", fontsize=20, y=0.95)\n",
    "# period = pg.period_at_max_power\n",
    "# print(f\"Max Power Period: {period}\")\n",
    "# lc.fold(period.value*4).scatter()\n",
    "# plt.title(f\"Folded Lightcurve with Period: {period:.4f}\", fontsize=20)"
   ]
  },
  {
   "cell_type": "code",
   "execution_count": null,
   "metadata": {},
   "outputs": [],
   "source": [
    "# cpm = cpm_periodogram(\"provided_sources/tess-s0015-1-1_322.878520_47.920650_64x64_astrocut.fits\")  # Center\n",
    "\n",
    "cpm = cpm_periodogram(\"provided_sources/tess-s0015-1-1_322.878520_47.920650_64x64_astrocut.fits\", t_row=30, t_col=31)"
   ]
  },
  {
   "cell_type": "code",
   "execution_count": null,
   "metadata": {},
   "outputs": [],
   "source": [
    "# lc = lk.LightCurve(time=cpm.time, flux=aperture_lc)\n",
    "# pg = lc.to_periodogram(oversample_factor=10)\n",
    "# fig, axs = plt.subplots(2, 1, figsize=(15, 8))\n",
    "# pg.plot(ax=axs[0], c='k')\n",
    "# pg.plot(ax=axs[1], c='k', view='period')\n",
    "# fig.suptitle(\"Periodogram\", fontsize=20, y=0.95)\n",
    "# period = pg.period_at_max_power\n",
    "# print(f\"Max Power Period: {period}\")\n",
    "# lc.fold(period.value*4).scatter()\n",
    "# plt.title(f\"Folded Lightcurve with Period: {period:.4f}\", fontsize=20)"
   ]
  },
  {
   "cell_type": "code",
   "execution_count": null,
   "metadata": {},
   "outputs": [],
   "source": [
    "cpm_periodogram(\"provided_sources/tess-s0015-1-1_325.106020_50.169629_64x64_astrocut.fits\")"
   ]
  },
  {
   "cell_type": "code",
   "execution_count": null,
   "metadata": {},
   "outputs": [],
   "source": []
  }
 ],
 "metadata": {
  "kernelspec": {
   "display_name": "Python 3",
   "language": "python",
   "name": "python3"
  },
  "language_info": {
   "codemirror_mode": {
    "name": "ipython",
    "version": 3
   },
   "file_extension": ".py",
   "mimetype": "text/x-python",
   "name": "python",
   "nbconvert_exporter": "python",
   "pygments_lexer": "ipython3",
   "version": "3.7.8"
  }
 },
 "nbformat": 4,
 "nbformat_minor": 4
}
